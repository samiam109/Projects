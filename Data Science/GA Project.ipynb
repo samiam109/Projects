{
 "cells": [
  {
   "cell_type": "markdown",
   "metadata": {
    "collapsed": true
   },
   "source": [
    "# Final Project Part 2\n",
    "### By Samuel Karp\n",
    "## Source\n",
    "- Source https://archive.ics.uci.edu/ml/datasets/bank+marketing\n",
    "- Moro et al., 2014] S. Moro, P. Cortez and P. Rita. A Data-Driven Approach to Predict the Success of Bank Telemarketing. Decision Support Systems, Elsevier, 62:22-31, June 2014\n",
    "---\n",
    "\n",
    "### Index\n",
    "- [Goal](#goal)\n",
    "- [Import The Data and Clean](#import)\n",
    "- [Getting a Breif overview of the data's structure and describing it](#overview)\n",
    "- [Evaluation of data, Missing Data and Other Notes](#evaluation)\n",
    "- [Plan and Questions](#plan_questions)\n",
    "- [Cleaning and Encoding](#cleaning)\n",
    "- [LR prep and model](#logit-prep)\n",
    "- [Standardizing features and GS to find best alpha](#gridsearch)\n",
    "- [Findings](#findings)"
   ]
  },
  {
   "cell_type": "markdown",
   "metadata": {},
   "source": [
    "<a id='goal' ></a>\n",
    "\n",
    "## Goal\n",
    "### Predict if a client will subscribe a term deposit. \n",
    "#### But, what does this mean?\n",
    "- Will a person whom is already banking with this Portuguese banking institution want to invest money with the bank as a 'term deposit'?\n",
    "- Our outcome will be the probability of a client subscribing to a term deposit\n",
    "---\n",
    "- Hypothesis: A client will subscribe a term deposit\n",
    "- Null Hypothesis: A client will not subscribe a term deposit"
   ]
  },
  {
   "cell_type": "code",
   "execution_count": 2,
   "metadata": {
    "collapsed": true
   },
   "outputs": [],
   "source": [
    "#General imports\n",
    "import pandas as pd\n",
    "import numpy as np\n",
    "import matplotlib\n",
    "import seaborn as sns\n",
    "from sklearn.model_selection import train_test_split\n",
    "\n",
    "sns.set_style('whitegrid')\n",
    "import matplotlib.pyplot as plt\n",
    "%matplotlib inline"
   ]
  },
  {
   "cell_type": "markdown",
   "metadata": {},
   "source": [
    "<a id='import' ></a>\n",
    "\n",
    "## Import the Sample Dataset and Clean\n",
    "---\n",
    "### Import the dataset\n",
    "#### Here I import the dataset and view it to begin understanding what the different features and types of variables exist\n",
    "- Import dataset and view head"
   ]
  },
  {
   "cell_type": "code",
   "execution_count": 3,
   "metadata": {},
   "outputs": [
    {
     "name": "stdout",
     "output_type": "stream",
     "text": [
      "   age          job  marital  education default  balance housing loan  \\\n",
      "0   30   unemployed  married    primary      no     1787      no   no   \n",
      "1   33     services  married  secondary      no     4789     yes  yes   \n",
      "2   35   management   single   tertiary      no     1350     yes   no   \n",
      "3   30   management  married   tertiary      no     1476     yes  yes   \n",
      "4   59  blue-collar  married  secondary      no        0     yes   no   \n",
      "\n",
      "    contact  day month  duration  campaign  pdays  previous poutcome   y  \n",
      "0  cellular   19   oct        79         1     -1         0  unknown  no  \n",
      "1  cellular   11   may       220         1    339         4  failure  no  \n",
      "2  cellular   16   apr       185         1    330         1  failure  no  \n",
      "3   unknown    3   jun       199         4     -1         0  unknown  no  \n",
      "4   unknown    5   may       226         1     -1         0  unknown  no  \n"
     ]
    }
   ],
   "source": [
    "bank_data = pd.read_csv('../Data/bank.csv', sep=\";\") #Seperate by \";\" or the clean after import. This is easier\n",
    "print bank_data.head()"
   ]
  },
  {
   "cell_type": "markdown",
   "metadata": {},
   "source": [
    "### Clean the dataset\n",
    "- Replace the unwanted characters in the dataset"
   ]
  },
  {
   "cell_type": "code",
   "execution_count": 4,
   "metadata": {},
   "outputs": [
    {
     "data": {
      "text/plain": [
       "Index([u'age', u'job', u'marital', u'education', u'default', u'balance',\n",
       "       u'housing', u'loan', u'contact', u'day', u'month', u'duration',\n",
       "       u'campaign', u'pdays', u'previous', u'poutcome', u'y'],\n",
       "      dtype='object')"
      ]
     },
     "execution_count": 4,
     "metadata": {},
     "output_type": "execute_result"
    }
   ],
   "source": [
    "bank_data.columns = [x.replace('\"', '\\'') for x in bank_data.columns]\n",
    "bank_data.columns"
   ]
  },
  {
   "cell_type": "code",
   "execution_count": 5,
   "metadata": {},
   "outputs": [
    {
     "data": {
      "text/html": [
       "<div>\n",
       "<style>\n",
       "    .dataframe thead tr:only-child th {\n",
       "        text-align: right;\n",
       "    }\n",
       "\n",
       "    .dataframe thead th {\n",
       "        text-align: left;\n",
       "    }\n",
       "\n",
       "    .dataframe tbody tr th {\n",
       "        vertical-align: top;\n",
       "    }\n",
       "</style>\n",
       "<table border=\"1\" class=\"dataframe\">\n",
       "  <thead>\n",
       "    <tr style=\"text-align: right;\">\n",
       "      <th></th>\n",
       "      <th>age</th>\n",
       "      <th>job</th>\n",
       "      <th>marital</th>\n",
       "      <th>education</th>\n",
       "      <th>default</th>\n",
       "      <th>balance</th>\n",
       "      <th>housing</th>\n",
       "      <th>loan</th>\n",
       "      <th>contact</th>\n",
       "      <th>day</th>\n",
       "      <th>month</th>\n",
       "      <th>duration</th>\n",
       "      <th>campaign</th>\n",
       "      <th>pdays</th>\n",
       "      <th>previous</th>\n",
       "      <th>poutcome</th>\n",
       "      <th>y</th>\n",
       "    </tr>\n",
       "  </thead>\n",
       "  <tbody>\n",
       "    <tr>\n",
       "      <th>0</th>\n",
       "      <td>30</td>\n",
       "      <td>unemployed</td>\n",
       "      <td>married</td>\n",
       "      <td>primary</td>\n",
       "      <td>no</td>\n",
       "      <td>1787</td>\n",
       "      <td>no</td>\n",
       "      <td>no</td>\n",
       "      <td>cellular</td>\n",
       "      <td>19</td>\n",
       "      <td>oct</td>\n",
       "      <td>79</td>\n",
       "      <td>1</td>\n",
       "      <td>-1</td>\n",
       "      <td>0</td>\n",
       "      <td>unknown</td>\n",
       "      <td>no</td>\n",
       "    </tr>\n",
       "    <tr>\n",
       "      <th>1</th>\n",
       "      <td>33</td>\n",
       "      <td>services</td>\n",
       "      <td>married</td>\n",
       "      <td>secondary</td>\n",
       "      <td>no</td>\n",
       "      <td>4789</td>\n",
       "      <td>yes</td>\n",
       "      <td>yes</td>\n",
       "      <td>cellular</td>\n",
       "      <td>11</td>\n",
       "      <td>may</td>\n",
       "      <td>220</td>\n",
       "      <td>1</td>\n",
       "      <td>339</td>\n",
       "      <td>4</td>\n",
       "      <td>failure</td>\n",
       "      <td>no</td>\n",
       "    </tr>\n",
       "    <tr>\n",
       "      <th>2</th>\n",
       "      <td>35</td>\n",
       "      <td>management</td>\n",
       "      <td>single</td>\n",
       "      <td>tertiary</td>\n",
       "      <td>no</td>\n",
       "      <td>1350</td>\n",
       "      <td>yes</td>\n",
       "      <td>no</td>\n",
       "      <td>cellular</td>\n",
       "      <td>16</td>\n",
       "      <td>apr</td>\n",
       "      <td>185</td>\n",
       "      <td>1</td>\n",
       "      <td>330</td>\n",
       "      <td>1</td>\n",
       "      <td>failure</td>\n",
       "      <td>no</td>\n",
       "    </tr>\n",
       "    <tr>\n",
       "      <th>3</th>\n",
       "      <td>30</td>\n",
       "      <td>management</td>\n",
       "      <td>married</td>\n",
       "      <td>tertiary</td>\n",
       "      <td>no</td>\n",
       "      <td>1476</td>\n",
       "      <td>yes</td>\n",
       "      <td>yes</td>\n",
       "      <td>unknown</td>\n",
       "      <td>3</td>\n",
       "      <td>jun</td>\n",
       "      <td>199</td>\n",
       "      <td>4</td>\n",
       "      <td>-1</td>\n",
       "      <td>0</td>\n",
       "      <td>unknown</td>\n",
       "      <td>no</td>\n",
       "    </tr>\n",
       "    <tr>\n",
       "      <th>4</th>\n",
       "      <td>59</td>\n",
       "      <td>blue-collar</td>\n",
       "      <td>married</td>\n",
       "      <td>secondary</td>\n",
       "      <td>no</td>\n",
       "      <td>0</td>\n",
       "      <td>yes</td>\n",
       "      <td>no</td>\n",
       "      <td>unknown</td>\n",
       "      <td>5</td>\n",
       "      <td>may</td>\n",
       "      <td>226</td>\n",
       "      <td>1</td>\n",
       "      <td>-1</td>\n",
       "      <td>0</td>\n",
       "      <td>unknown</td>\n",
       "      <td>no</td>\n",
       "    </tr>\n",
       "  </tbody>\n",
       "</table>\n",
       "</div>"
      ],
      "text/plain": [
       "   age          job  marital  education default  balance housing loan  \\\n",
       "0   30   unemployed  married    primary      no     1787      no   no   \n",
       "1   33     services  married  secondary      no     4789     yes  yes   \n",
       "2   35   management   single   tertiary      no     1350     yes   no   \n",
       "3   30   management  married   tertiary      no     1476     yes  yes   \n",
       "4   59  blue-collar  married  secondary      no        0     yes   no   \n",
       "\n",
       "    contact  day month  duration  campaign  pdays  previous poutcome   y  \n",
       "0  cellular   19   oct        79         1     -1         0  unknown  no  \n",
       "1  cellular   11   may       220         1    339         4  failure  no  \n",
       "2  cellular   16   apr       185         1    330         1  failure  no  \n",
       "3   unknown    3   jun       199         4     -1         0  unknown  no  \n",
       "4   unknown    5   may       226         1     -1         0  unknown  no  "
      ]
     },
     "execution_count": 5,
     "metadata": {},
     "output_type": "execute_result"
    }
   ],
   "source": [
    "bank_data.head()"
   ]
  },
  {
   "cell_type": "markdown",
   "metadata": {},
   "source": [
    "<a id='overview'></a>\n",
    "\n",
    "## Overview of the dataset\n",
    "---\n",
    "Here I will discuss the features of the dataset, possible missing data, problems that may occur due to the types are structure of the features and possible methods of resolution\n",
    "\n",
    "The features are split into 5 categories:\n",
    "   - Bank Client Data\n",
    "   - Related with last contact of the current campaign\n",
    "   - Other Attributes\n",
    "   - Social and economic context attributes\n",
    "   - Finally, the target\n",
    "   \n",
    "#### Bank client data:\n",
    "| Variable | Description |\n",
    "|---|---|\n",
    "| age | numeric, continuous |\n",
    "| job | type of job (categorical: \"admin.\",\"blue-collar\",\"entrepreneur\",\"housemaid\",\"management\",\"retired\",\"self-employed\",\"services\",\"student\",\"technician\",\"unemployed\",\"unknown\") |\n",
    "| marital | marital status (categorical: \"divorced\",\"married\",\"single\",\"unknown\"; note: \"divorced\" means divorced or widowed) |\n",
    "| education | (categorical: \"high.school\",\"illiterate\",\"professional.course\",\"university.degree\",\"unknown\") |\n",
    "| default | has credit in default? (categorical: \"no\",\"yes\",\"unknown\") |\n",
    "| balance | numeric, continuous. Funds in client's account |\n",
    "| housing | has housing loan? (categorical: \"no\",\"yes\",\"unknown\") |\n",
    "| loan | has personal loan? (categorical: \"no\",\"yes\",\"unknown\") |\n",
    "\n",
    "#### Related with the last contact of the current campaign:\n",
    "| Variable | Description |\n",
    "|---|---|\n",
    "| contact | contact communication type (categorical: \"cellular\",\"telephone\")  |\n",
    "| month | last contact month of year (categorical: \"jan\", \"feb\", \"mar\", ..., \"nov\", \"dec\") |\n",
    "| day_of_week | last contact day of the week (categorical: \"mon\",\"tue\",\"wed\",\"thu\",\"fri\") |\n",
    "| duration | last contact duration, in seconds (numeric). Important note:  this attribute highly affects the output target (e.g., if duration=0 then y=\"no\"). Yet, the duration is not known before a call is performed. Also, after the end of the call y is obviously known. Thus, this input should only be included for benchmark purposes and should be discarded if the intention is to have a realistic predictive model |\n",
    "\n",
    "#### Other attributes:\n",
    "| Variable | Description |\n",
    "|---|---|\n",
    "| campaign | number of contacts performed during this campaign and for this client (numeric, includes last contact)\n",
    "| pdays | number of days that passed by after the client was last contacted from a previous campaign (numeric; 999 means client was not previously contacted) |\n",
    "| previous | number of contacts performed before this campaign and for this client (numeric) |\n",
    "| poutcome: outcome of the previous marketing campaign (categorical | \"failure\",\"nonexistent\",\"success\") |\n",
    "\n",
    "#### Social and economic context attributes\n",
    "| Variable | Description |\n",
    "|---|---|\n",
    "| emp.var.rate: employment variation rate | quarterly indicator (numeric) |\n",
    "| cons.price.idx: consumer price index | monthly indicator (numeric) |    \n",
    "| cons.conf.idx: consumer confidence index | monthly indicator (numeric) |    \n",
    "| euribor3m: euribor 3 month rate | daily indicator (numeric) |\n",
    "| nr.employed: number of employees | quarterly indicator (numeric) |\n",
    "#### Target\n",
    "y - has the client subscribed a term deposit? (binary: \"yes\",\"no\")"
   ]
  },
  {
   "cell_type": "markdown",
   "metadata": {},
   "source": [
    "<a id='evaluation'></a>\n",
    "\n",
    "## Evaluation of the data, Missing Data and Other Notes"
   ]
  },
  {
   "cell_type": "code",
   "execution_count": 6,
   "metadata": {},
   "outputs": [
    {
     "data": {
      "text/plain": [
       "secondary    2306\n",
       "tertiary     1350\n",
       "primary       678\n",
       "unknown       187\n",
       "Name: education, dtype: int64"
      ]
     },
     "execution_count": 6,
     "metadata": {},
     "output_type": "execute_result"
    }
   ],
   "source": [
    "bank_data.education.value_counts() #The feature table above describes different categories available to 'education'\n",
    "#This data must have been cleaned to reduce noise"
   ]
  },
  {
   "cell_type": "markdown",
   "metadata": {},
   "source": [
    "### Note about duration\n",
    "There is a strong correlation between duration and the target, however duration is unknown until the call is completed. This feature will not be used in model prediction. A similar opinion was stated by S. Moro, P. Cortez and P. Rita in their paper; A Data-Driven Approach to Predict the Success of Bank Telemarketing. Decision Support Systems, Elsevier, 62:22-31, June 2014. \"we only achieved good models when using attributes that are only known on call execution, such as call duration. Thus, while providing interesting information for campaign managers, such models cannot be used for prediction.\" I do not have the duration of a call until the call is finished, and I have the output at the same time. The duration of a call is unknown until the call is executed, therefore it cannot be used to predict future outcomes"
   ]
  },
  {
   "cell_type": "markdown",
   "metadata": {},
   "source": [
    "#### Missing Features or Incomplete features\n",
    "- Interest Rate, which would describe the interest rates offered\n",
    "\n",
    "- Considering we can have multiple calls, balances is without a proper definition. I will treat this as the funds in the client's account when they were last called.\n",
    "\n",
    "- Any observation with an 'unknown' feature may have to be removed from the dataset as having a client with an 'unknown' property will not provide any clarity on a prediction. However, removing a client with 'unknown' age (which may be a very low impact feature) could remove a client that has 'y' as yes. I believe retaining the unknowns and treating them as a category is the best option\n",
    "\n",
    "- The social and economic factors in the feature list are not present in the data, likely because they are confidential. \n",
    "\n",
    "- Other features such as gender are not in the dataset"
   ]
  },
  {
   "cell_type": "markdown",
   "metadata": {},
   "source": [
    "#### Characteristics of the Dataset\n",
    "- Multivariate\n",
    "- Classification variables\n",
    "- Continuous Variables"
   ]
  },
  {
   "cell_type": "markdown",
   "metadata": {},
   "source": [
    "<a id='plan_questions'></a>\n",
    "\n",
    "## Plan\n",
    "- In order to begin using the data I must think of the features that need to be encoded or dummyfied."
   ]
  },
  {
   "cell_type": "markdown",
   "metadata": {},
   "source": [
    "- Inspect different features for collinearity\n",
    "- Plot a heat map to inspect for high correlating features\n",
    "- Use gridsearch and lasso to reduce dimensionality of the data\n",
    "- Use logisitic regression to predict the probability of my hypothesis and null hypothesis since there is a dichotomous outcome\n",
    "- Could also use random forests as they are robust against unknown or missing data, with a plesant visual output"
   ]
  },
  {
   "cell_type": "markdown",
   "metadata": {},
   "source": [
    "## Questions\n",
    "- How will unknown data affect my predictive ability?\n",
    "- How will missing data affect my data and how should I address it? Feature extraction?\n",
    "- What features have the highest impact on the target?"
   ]
  },
  {
   "cell_type": "markdown",
   "metadata": {},
   "source": [
    "# End of Part 2\n",
    "---\n",
    "## Begin the EDA"
   ]
  },
  {
   "cell_type": "code",
   "execution_count": 7,
   "metadata": {},
   "outputs": [
    {
     "data": {
      "text/plain": [
       "secondary    2306\n",
       "tertiary     1350\n",
       "primary       678\n",
       "unknown       187\n",
       "Name: education, dtype: int64"
      ]
     },
     "execution_count": 7,
     "metadata": {},
     "output_type": "execute_result"
    }
   ],
   "source": [
    "bank_data.education.value_counts()"
   ]
  },
  {
   "cell_type": "code",
   "execution_count": 8,
   "metadata": {},
   "outputs": [
    {
     "data": {
      "text/plain": [
       "no     4000\n",
       "yes     521\n",
       "Name: y, dtype: int64"
      ]
     },
     "execution_count": 8,
     "metadata": {},
     "output_type": "execute_result"
    }
   ],
   "source": [
    "bank_data['y'].value_counts()"
   ]
  },
  {
   "cell_type": "code",
   "execution_count": 9,
   "metadata": {
    "scrolled": true
   },
   "outputs": [
    {
     "data": {
      "text/plain": [
       "management       969\n",
       "blue-collar      946\n",
       "technician       768\n",
       "admin.           478\n",
       "services         417\n",
       "retired          230\n",
       "self-employed    183\n",
       "entrepreneur     168\n",
       "unemployed       128\n",
       "housemaid        112\n",
       "student           84\n",
       "unknown           38\n",
       "Name: job, dtype: int64"
      ]
     },
     "execution_count": 9,
     "metadata": {},
     "output_type": "execute_result"
    }
   ],
   "source": [
    "bank_data['job'].value_counts()#a good way of showing the breakdown of distinct values in a column. Use in EDA"
   ]
  },
  {
   "cell_type": "code",
   "execution_count": 10,
   "metadata": {},
   "outputs": [
    {
     "name": "stdout",
     "output_type": "stream",
     "text": [
      "age           41.170095\n",
      "balance     1422.657819\n",
      "day           15.915284\n",
      "duration     263.961292\n",
      "campaign       2.793630\n",
      "pdays         39.766645\n",
      "previous       0.542579\n",
      "dtype: float64\n",
      "age           10.576211\n",
      "balance     3009.638142\n",
      "day            8.247667\n",
      "duration     259.856633\n",
      "campaign       3.109807\n",
      "pdays        100.121124\n",
      "previous       1.693562\n",
      "dtype: float64\n",
      "age         1.118562e+02\n",
      "balance     9.057922e+06\n",
      "day         6.802402e+01\n",
      "duration    6.752547e+04\n",
      "campaign    9.670897e+00\n",
      "pdays       1.002424e+04\n",
      "previous    2.868153e+00\n",
      "dtype: float64\n"
     ]
    }
   ],
   "source": [
    "print bank_data.mean()\n",
    "print bank_data.std()\n",
    "print bank_data.var()"
   ]
  },
  {
   "cell_type": "code",
   "execution_count": 11,
   "metadata": {
    "scrolled": false
   },
   "outputs": [
    {
     "data": {
      "text/html": [
       "<div>\n",
       "<style>\n",
       "    .dataframe thead tr:only-child th {\n",
       "        text-align: right;\n",
       "    }\n",
       "\n",
       "    .dataframe thead th {\n",
       "        text-align: left;\n",
       "    }\n",
       "\n",
       "    .dataframe tbody tr th {\n",
       "        vertical-align: top;\n",
       "    }\n",
       "</style>\n",
       "<table border=\"1\" class=\"dataframe\">\n",
       "  <thead>\n",
       "    <tr style=\"text-align: right;\">\n",
       "      <th></th>\n",
       "      <th>count</th>\n",
       "      <th>mean</th>\n",
       "      <th>std</th>\n",
       "      <th>min</th>\n",
       "      <th>25%</th>\n",
       "      <th>50%</th>\n",
       "      <th>75%</th>\n",
       "      <th>max</th>\n",
       "    </tr>\n",
       "    <tr>\n",
       "      <th>job</th>\n",
       "      <th></th>\n",
       "      <th></th>\n",
       "      <th></th>\n",
       "      <th></th>\n",
       "      <th></th>\n",
       "      <th></th>\n",
       "      <th></th>\n",
       "      <th></th>\n",
       "    </tr>\n",
       "  </thead>\n",
       "  <tbody>\n",
       "    <tr>\n",
       "      <th>admin.</th>\n",
       "      <td>478.0</td>\n",
       "      <td>2.631799</td>\n",
       "      <td>2.818476</td>\n",
       "      <td>1.0</td>\n",
       "      <td>1.0</td>\n",
       "      <td>2.0</td>\n",
       "      <td>3.0</td>\n",
       "      <td>32.0</td>\n",
       "    </tr>\n",
       "    <tr>\n",
       "      <th>blue-collar</th>\n",
       "      <td>946.0</td>\n",
       "      <td>2.846723</td>\n",
       "      <td>3.500684</td>\n",
       "      <td>1.0</td>\n",
       "      <td>1.0</td>\n",
       "      <td>2.0</td>\n",
       "      <td>3.0</td>\n",
       "      <td>50.0</td>\n",
       "    </tr>\n",
       "    <tr>\n",
       "      <th>entrepreneur</th>\n",
       "      <td>168.0</td>\n",
       "      <td>2.589286</td>\n",
       "      <td>2.727835</td>\n",
       "      <td>1.0</td>\n",
       "      <td>1.0</td>\n",
       "      <td>2.0</td>\n",
       "      <td>3.0</td>\n",
       "      <td>24.0</td>\n",
       "    </tr>\n",
       "    <tr>\n",
       "      <th>housemaid</th>\n",
       "      <td>112.0</td>\n",
       "      <td>2.500000</td>\n",
       "      <td>1.815846</td>\n",
       "      <td>1.0</td>\n",
       "      <td>1.0</td>\n",
       "      <td>2.0</td>\n",
       "      <td>3.0</td>\n",
       "      <td>11.0</td>\n",
       "    </tr>\n",
       "    <tr>\n",
       "      <th>management</th>\n",
       "      <td>969.0</td>\n",
       "      <td>2.973168</td>\n",
       "      <td>3.196606</td>\n",
       "      <td>1.0</td>\n",
       "      <td>1.0</td>\n",
       "      <td>2.0</td>\n",
       "      <td>3.0</td>\n",
       "      <td>29.0</td>\n",
       "    </tr>\n",
       "    <tr>\n",
       "      <th>retired</th>\n",
       "      <td>230.0</td>\n",
       "      <td>2.465217</td>\n",
       "      <td>2.491226</td>\n",
       "      <td>1.0</td>\n",
       "      <td>1.0</td>\n",
       "      <td>2.0</td>\n",
       "      <td>3.0</td>\n",
       "      <td>23.0</td>\n",
       "    </tr>\n",
       "    <tr>\n",
       "      <th>self-employed</th>\n",
       "      <td>183.0</td>\n",
       "      <td>3.278689</td>\n",
       "      <td>4.154163</td>\n",
       "      <td>1.0</td>\n",
       "      <td>1.0</td>\n",
       "      <td>2.0</td>\n",
       "      <td>4.0</td>\n",
       "      <td>32.0</td>\n",
       "    </tr>\n",
       "    <tr>\n",
       "      <th>services</th>\n",
       "      <td>417.0</td>\n",
       "      <td>2.822542</td>\n",
       "      <td>3.222095</td>\n",
       "      <td>1.0</td>\n",
       "      <td>1.0</td>\n",
       "      <td>2.0</td>\n",
       "      <td>3.0</td>\n",
       "      <td>28.0</td>\n",
       "    </tr>\n",
       "    <tr>\n",
       "      <th>student</th>\n",
       "      <td>84.0</td>\n",
       "      <td>2.392857</td>\n",
       "      <td>2.583627</td>\n",
       "      <td>1.0</td>\n",
       "      <td>1.0</td>\n",
       "      <td>2.0</td>\n",
       "      <td>3.0</td>\n",
       "      <td>18.0</td>\n",
       "    </tr>\n",
       "    <tr>\n",
       "      <th>technician</th>\n",
       "      <td>768.0</td>\n",
       "      <td>2.731771</td>\n",
       "      <td>2.572228</td>\n",
       "      <td>1.0</td>\n",
       "      <td>1.0</td>\n",
       "      <td>2.0</td>\n",
       "      <td>3.0</td>\n",
       "      <td>22.0</td>\n",
       "    </tr>\n",
       "    <tr>\n",
       "      <th>unemployed</th>\n",
       "      <td>128.0</td>\n",
       "      <td>2.679688</td>\n",
       "      <td>3.982113</td>\n",
       "      <td>1.0</td>\n",
       "      <td>1.0</td>\n",
       "      <td>2.0</td>\n",
       "      <td>3.0</td>\n",
       "      <td>31.0</td>\n",
       "    </tr>\n",
       "    <tr>\n",
       "      <th>unknown</th>\n",
       "      <td>38.0</td>\n",
       "      <td>2.552632</td>\n",
       "      <td>2.127012</td>\n",
       "      <td>1.0</td>\n",
       "      <td>1.0</td>\n",
       "      <td>2.0</td>\n",
       "      <td>3.0</td>\n",
       "      <td>9.0</td>\n",
       "    </tr>\n",
       "  </tbody>\n",
       "</table>\n",
       "</div>"
      ],
      "text/plain": [
       "               count      mean       std  min  25%  50%  75%   max\n",
       "job                                                               \n",
       "admin.         478.0  2.631799  2.818476  1.0  1.0  2.0  3.0  32.0\n",
       "blue-collar    946.0  2.846723  3.500684  1.0  1.0  2.0  3.0  50.0\n",
       "entrepreneur   168.0  2.589286  2.727835  1.0  1.0  2.0  3.0  24.0\n",
       "housemaid      112.0  2.500000  1.815846  1.0  1.0  2.0  3.0  11.0\n",
       "management     969.0  2.973168  3.196606  1.0  1.0  2.0  3.0  29.0\n",
       "retired        230.0  2.465217  2.491226  1.0  1.0  2.0  3.0  23.0\n",
       "self-employed  183.0  3.278689  4.154163  1.0  1.0  2.0  4.0  32.0\n",
       "services       417.0  2.822542  3.222095  1.0  1.0  2.0  3.0  28.0\n",
       "student         84.0  2.392857  2.583627  1.0  1.0  2.0  3.0  18.0\n",
       "technician     768.0  2.731771  2.572228  1.0  1.0  2.0  3.0  22.0\n",
       "unemployed     128.0  2.679688  3.982113  1.0  1.0  2.0  3.0  31.0\n",
       "unknown         38.0  2.552632  2.127012  1.0  1.0  2.0  3.0   9.0"
      ]
     },
     "execution_count": 11,
     "metadata": {},
     "output_type": "execute_result"
    }
   ],
   "source": [
    "des = bank_data.groupby('job').describe()\n",
    "des.campaign"
   ]
  },
  {
   "cell_type": "code",
   "execution_count": 12,
   "metadata": {},
   "outputs": [
    {
     "name": "stdout",
     "output_type": "stream",
     "text": [
      "           age      balance        day    duration  campaign      pdays  \\\n",
      "y                                                                         \n",
      "no   40.998000  1403.211750  15.948750  226.347500  2.862250  36.006000   \n",
      "yes  42.491363  1571.955854  15.658349  552.742802  2.266795  68.639155   \n",
      "\n",
      "     previous  \n",
      "y              \n",
      "no   0.471250  \n",
      "yes  1.090211  \n",
      "           age      balance       day    duration  campaign       pdays  \\\n",
      "y                                                                         \n",
      "no   10.188398  3075.349313  8.249736  210.313631  3.212609   96.297657   \n",
      "yes  13.115772  2444.398956  8.235148  390.325805  2.092071  121.963063   \n",
      "\n",
      "     previous  \n",
      "y              \n",
      "no   1.627371  \n",
      "yes  2.055368  \n"
     ]
    }
   ],
   "source": [
    "print bank_data.groupby('y').mean()\n",
    "print bank_data.groupby('y').std()"
   ]
  },
  {
   "cell_type": "code",
   "execution_count": 13,
   "metadata": {
    "collapsed": true
   },
   "outputs": [],
   "source": [
    "employment = bank_data.job\n",
    "durr = bank_data.duration"
   ]
  },
  {
   "cell_type": "code",
   "execution_count": 14,
   "metadata": {
    "scrolled": false
   },
   "outputs": [
    {
     "data": {
      "text/plain": [
       "<matplotlib.axes._subplots.AxesSubplot at 0x7fe57a1407d0>"
      ]
     },
     "execution_count": 14,
     "metadata": {},
     "output_type": "execute_result"
    },
    {
     "data": {
      "image/png": "[encoded data removed]",
      "text/plain": [
       "<matplotlib.figure.Figure at 0x7fe57a1400d0>"
      ]
     },
     "metadata": {},
     "output_type": "display_data"
    }
   ],
   "source": [
    "bank_data[['job', 'duration']].groupby('job').mean().sort_values('duration').plot(style='+', figsize=(16, 8))"
   ]
  },
  {
   "cell_type": "code",
   "execution_count": 15,
   "metadata": {},
   "outputs": [
    {
     "data": {
      "text/plain": [
       "secondary    2306\n",
       "tertiary     1350\n",
       "primary       678\n",
       "unknown       187\n",
       "Name: education, dtype: int64"
      ]
     },
     "execution_count": 15,
     "metadata": {},
     "output_type": "execute_result"
    }
   ],
   "source": [
    "bank_data['education'].value_counts()"
   ]
  },
  {
   "cell_type": "markdown",
   "metadata": {},
   "source": [
    "<a id='cleaning'></a>\n",
    "# Cleaning and Encoding Features \n",
    "---\n",
    "- Encode features so they can be used in logistic regression"
   ]
  },
  {
   "cell_type": "code",
   "execution_count": 16,
   "metadata": {
    "collapsed": true
   },
   "outputs": [],
   "source": [
    "from sklearn.preprocessing import LabelEncoder\n",
    "from collections import defaultdict\n",
    "d = defaultdict(LabelEncoder)"
   ]
  },
  {
   "cell_type": "code",
   "execution_count": 17,
   "metadata": {},
   "outputs": [
    {
     "data": {
      "text/plain": [
       "array(['unknown', 'failure', 'other', 'success'], dtype=object)"
      ]
     },
     "execution_count": 17,
     "metadata": {},
     "output_type": "execute_result"
    }
   ],
   "source": [
    "bank_data.poutcome.unique()#Outcome of previous campaign effort. Other and unknown would achieve the same result."
   ]
  },
  {
   "cell_type": "markdown",
   "metadata": {},
   "source": [
    "### Features to encode:\n",
    "- job\n",
    "- marital\n",
    "- education\n",
    "- default\n",
    "- housing\n",
    "- loan\n",
    "- contact\n",
    "- month\n",
    "- poutcome\n",
    "- y"
   ]
  },
  {
   "cell_type": "code",
   "execution_count": 18,
   "metadata": {
    "collapsed": true
   },
   "outputs": [],
   "source": [
    "#Removing 'other' from feature poutcome\n",
    "#Transform y yes/no to has_subscribed 1/0\n",
    "bank_data.poutcome = bank_data.poutcome.apply(lambda x: 'unknown' if x == 'other' else x)\n",
    "\n",
    "bank_data['y'] = bank_data.y.apply(lambda x: 1 if x == 'yes' else 0)"
   ]
  },
  {
   "cell_type": "code",
   "execution_count": 19,
   "metadata": {
    "collapsed": true
   },
   "outputs": [],
   "source": [
    "new_df = bank_data.apply(lambda x: d[x.name].fit_transform(x))"
   ]
  },
  {
   "cell_type": "code",
   "execution_count": 20,
   "metadata": {},
   "outputs": [
    {
     "name": "stdout",
     "output_type": "stream",
     "text": [
      "   age  job  marital  education  default  balance  housing  loan  contact  \\\n",
      "0   11   10        1          0        0     1475        0     0        0   \n",
      "1   14    7        1          1        0     2030        1     1        0   \n",
      "2   16    4        2          2        0     1303        1     0        0   \n",
      "3   11    4        1          2        0     1352        1     1        2   \n",
      "4   40    1        1          1        0      274        1     0        2   \n",
      "\n",
      "   day  month  duration  campaign  pdays  previous  poutcome  y  \n",
      "0   18     10        75         0      0         0         2  0  \n",
      "1   10      8       216         0    228         4         0  0  \n",
      "2   15      0       181         0    219         1         0  0  \n",
      "3    2      6       195         3      0         0         2  0  \n",
      "4    4      8       222         0      0         0         2  0  \n"
     ]
    }
   ],
   "source": [
    "print new_df.head()"
   ]
  },
  {
   "cell_type": "code",
   "execution_count": 21,
   "metadata": {
    "scrolled": true
   },
   "outputs": [
    {
     "name": "stdout",
     "output_type": "stream",
     "text": [
      "      age            job   marital  education default  balance housing loan  \\\n",
      "0      30     unemployed   married    primary      no     1787      no   no   \n",
      "1      33       services   married  secondary      no     4789     yes  yes   \n",
      "2      35     management    single   tertiary      no     1350     yes   no   \n",
      "3      30     management   married   tertiary      no     1476     yes  yes   \n",
      "4      59    blue-collar   married  secondary      no        0     yes   no   \n",
      "5      35     management    single   tertiary      no      747      no   no   \n",
      "6      36  self-employed   married   tertiary      no      307     yes   no   \n",
      "7      39     technician   married  secondary      no      147     yes   no   \n",
      "8      41   entrepreneur   married   tertiary      no      221     yes   no   \n",
      "9      43       services   married    primary      no      -88     yes  yes   \n",
      "10     39       services   married  secondary      no     9374     yes   no   \n",
      "11     43         admin.   married  secondary      no      264     yes   no   \n",
      "12     36     technician   married   tertiary      no     1109      no   no   \n",
      "13     20        student    single  secondary      no      502      no   no   \n",
      "14     31    blue-collar   married  secondary      no      360     yes  yes   \n",
      "15     40     management   married   tertiary      no      194      no  yes   \n",
      "16     56     technician   married  secondary      no     4073      no   no   \n",
      "17     37         admin.    single   tertiary      no     2317     yes   no   \n",
      "18     25    blue-collar    single    primary      no     -221     yes   no   \n",
      "19     31       services   married  secondary      no      132      no   no   \n",
      "20     38     management  divorced    unknown      no        0     yes   no   \n",
      "21     42     management  divorced   tertiary      no       16      no   no   \n",
      "22     44       services    single  secondary      no      106      no   no   \n",
      "23     44   entrepreneur   married  secondary      no       93      no   no   \n",
      "24     26      housemaid   married   tertiary      no      543      no   no   \n",
      "25     41     management   married   tertiary      no     5883      no   no   \n",
      "26     55    blue-collar   married    primary      no      627     yes   no   \n",
      "27     67        retired   married    unknown      no      696      no   no   \n",
      "28     56  self-employed   married  secondary      no      784      no  yes   \n",
      "29     53         admin.   married  secondary      no      105      no  yes   \n",
      "...   ...            ...       ...        ...     ...      ...     ...  ...   \n",
      "4491   35    blue-collar    single  secondary      no        0     yes   no   \n",
      "4492   32     technician    single  secondary      no      309     yes  yes   \n",
      "4493   28     technician    single   tertiary      no        0     yes   no   \n",
      "4494   26     technician    single  secondary      no      668     yes   no   \n",
      "4495   48     management   married   tertiary      no     1175     yes   no   \n",
      "4496   30    blue-collar    single  secondary      no      363      no   no   \n",
      "4497   31   entrepreneur    single   tertiary      no       38      no   no   \n",
      "4498   31     management   married   tertiary      no     1183     yes   no   \n",
      "4499   45    blue-collar  divorced    primary      no      942      no   no   \n",
      "4500   38         admin.   married  secondary      no     4196     yes   no   \n",
      "4501   34     management   married   tertiary      no      297     yes   no   \n",
      "4502   42       services   married  secondary      no      -91     yes  yes   \n",
      "4503   60  self-employed   married    primary      no      362      no  yes   \n",
      "4504   42    blue-collar    single  secondary      no     1080     yes  yes   \n",
      "4505   32         admin.    single  secondary      no      620     yes   no   \n",
      "4506   42     unemployed  divorced   tertiary      no     -166      no   no   \n",
      "4507   33       services   married  secondary      no      288     yes   no   \n",
      "4508   42         admin.   married    unknown      no      642     yes  yes   \n",
      "4509   51     technician   married   tertiary      no     2506      no   no   \n",
      "4510   36     technician  divorced  secondary      no      566     yes   no   \n",
      "4511   46    blue-collar   married  secondary      no      668     yes   no   \n",
      "4512   40    blue-collar   married  secondary      no     1100     yes   no   \n",
      "4513   49    blue-collar   married  secondary      no      322      no   no   \n",
      "4514   38    blue-collar   married  secondary      no     1205     yes   no   \n",
      "4515   32       services    single  secondary      no      473     yes   no   \n",
      "4516   33       services   married  secondary      no     -333     yes   no   \n",
      "4517   57  self-employed   married   tertiary     yes    -3313     yes  yes   \n",
      "4518   57     technician   married  secondary      no      295      no   no   \n",
      "4519   28    blue-collar   married  secondary      no     1137      no   no   \n",
      "4520   44   entrepreneur    single   tertiary      no     1136     yes  yes   \n",
      "\n",
      "        contact  day month  duration  campaign  pdays  previous poutcome  y  \n",
      "0      cellular   19   oct        79         1     -1         0  unknown  0  \n",
      "1      cellular   11   may       220         1    339         4  failure  0  \n",
      "2      cellular   16   apr       185         1    330         1  failure  0  \n",
      "3       unknown    3   jun       199         4     -1         0  unknown  0  \n",
      "4       unknown    5   may       226         1     -1         0  unknown  0  \n",
      "5      cellular   23   feb       141         2    176         3  failure  0  \n",
      "6      cellular   14   may       341         1    330         2  unknown  0  \n",
      "7      cellular    6   may       151         2     -1         0  unknown  0  \n",
      "8       unknown   14   may        57         2     -1         0  unknown  0  \n",
      "9      cellular   17   apr       313         1    147         2  failure  0  \n",
      "10      unknown   20   may       273         1     -1         0  unknown  0  \n",
      "11     cellular   17   apr       113         2     -1         0  unknown  0  \n",
      "12     cellular   13   aug       328         2     -1         0  unknown  0  \n",
      "13     cellular   30   apr       261         1     -1         0  unknown  1  \n",
      "14     cellular   29   jan        89         1    241         1  failure  0  \n",
      "15     cellular   29   aug       189         2     -1         0  unknown  0  \n",
      "16     cellular   27   aug       239         5     -1         0  unknown  0  \n",
      "17     cellular   20   apr       114         1    152         2  failure  0  \n",
      "18      unknown   23   may       250         1     -1         0  unknown  0  \n",
      "19     cellular    7   jul       148         1    152         1  unknown  0  \n",
      "20     cellular   18   nov        96         2     -1         0  unknown  0  \n",
      "21     cellular   19   nov       140         3     -1         0  unknown  0  \n",
      "22      unknown   12   jun       109         2     -1         0  unknown  0  \n",
      "23     cellular    7   jul       125         2     -1         0  unknown  0  \n",
      "24     cellular   30   jan       169         3     -1         0  unknown  0  \n",
      "25     cellular   20   nov       182         2     -1         0  unknown  0  \n",
      "26      unknown    5   may       247         1     -1         0  unknown  0  \n",
      "27    telephone   17   aug       119         1    105         2  failure  0  \n",
      "28     cellular   30   jul       149         2     -1         0  unknown  0  \n",
      "29     cellular   21   aug        74         2     -1         0  unknown  0  \n",
      "...         ...  ...   ...       ...       ...    ...       ...      ... ..  \n",
      "4491   cellular   16   apr       169         1     -1         0  unknown  0  \n",
      "4492   cellular   16   apr       346         1    234         3  failure  0  \n",
      "4493    unknown    4   jun       205         6     -1         0  unknown  0  \n",
      "4494    unknown   28   may       576         3     -1         0  unknown  1  \n",
      "4495  telephone   18   nov      1476         3     -1         0  unknown  0  \n",
      "4496   cellular   28   jul       171         3     -1         0  unknown  0  \n",
      "4497   cellular   20   nov       185         2     -1         0  unknown  0  \n",
      "4498    unknown   27   may       676         6     -1         0  unknown  0  \n",
      "4499   cellular   21   nov       362         1     -1         0  unknown  0  \n",
      "4500   cellular   12   may       193         2     -1         0  unknown  0  \n",
      "4501   cellular   26   aug        63         4     -1         0  unknown  0  \n",
      "4502   cellular    5   feb        43         1     -1         0  unknown  0  \n",
      "4503   cellular   29   jul       816         6     -1         0  unknown  1  \n",
      "4504   cellular   13   may       951         3    370         4  failure  1  \n",
      "4505    unknown   26   may      1234         3     -1         0  unknown  1  \n",
      "4506   cellular   29   aug        85         4     -1         0  unknown  0  \n",
      "4507   cellular   17   apr       306         1     -1         0  unknown  0  \n",
      "4508    unknown   16   may       509         2     -1         0  unknown  0  \n",
      "4509   cellular   30   nov       210         3     -1         0  unknown  0  \n",
      "4510    unknown   20   may       129         2     -1         0  unknown  0  \n",
      "4511    unknown   15   may      1263         2     -1         0  unknown  1  \n",
      "4512    unknown   29   may       660         2     -1         0  unknown  0  \n",
      "4513   cellular   14   aug       356         2     -1         0  unknown  0  \n",
      "4514   cellular   20   apr        45         4    153         1  failure  0  \n",
      "4515   cellular    7   jul       624         5     -1         0  unknown  0  \n",
      "4516   cellular   30   jul       329         5     -1         0  unknown  0  \n",
      "4517    unknown    9   may       153         1     -1         0  unknown  0  \n",
      "4518   cellular   19   aug       151        11     -1         0  unknown  0  \n",
      "4519   cellular    6   feb       129         4    211         3  unknown  0  \n",
      "4520   cellular    3   apr       345         2    249         7  unknown  0  \n",
      "\n",
      "[4521 rows x 17 columns]\n"
     ]
    }
   ],
   "source": [
    "print new_df.apply(lambda x: d[x.name].inverse_transform(x))"
   ]
  },
  {
   "cell_type": "code",
   "execution_count": 22,
   "metadata": {
    "scrolled": false
   },
   "outputs": [
    {
     "data": {
      "text/plain": [
       "<matplotlib.axes._subplots.AxesSubplot at 0x7fe5721bb250>"
      ]
     },
     "execution_count": 22,
     "metadata": {},
     "output_type": "execute_result"
    },
    {
     "data": {
      "image/png": "[encoded data removed]",
      "text/plain": [
       "<matplotlib.figure.Figure at 0x7fe5721bbbd0>"
      ]
     },
     "metadata": {},
     "output_type": "display_data"
    }
   ],
   "source": [
    "bank_data[['job', 'y']].groupby('job').mean().sort_values('y').plot(style='+', figsize=(8, 6))"
   ]
  },
  {
   "cell_type": "code",
   "execution_count": 23,
   "metadata": {},
   "outputs": [
    {
     "data": {
      "text/html": [
       "<div>\n",
       "<style>\n",
       "    .dataframe thead tr:only-child th {\n",
       "        text-align: right;\n",
       "    }\n",
       "\n",
       "    .dataframe thead th {\n",
       "        text-align: left;\n",
       "    }\n",
       "\n",
       "    .dataframe tbody tr th {\n",
       "        vertical-align: top;\n",
       "    }\n",
       "</style>\n",
       "<table border=\"1\" class=\"dataframe\">\n",
       "  <thead>\n",
       "    <tr style=\"text-align: right;\">\n",
       "      <th></th>\n",
       "      <th>age</th>\n",
       "      <th>job</th>\n",
       "      <th>marital</th>\n",
       "      <th>education</th>\n",
       "      <th>default</th>\n",
       "      <th>balance</th>\n",
       "      <th>housing</th>\n",
       "      <th>loan</th>\n",
       "      <th>contact</th>\n",
       "      <th>day</th>\n",
       "      <th>month</th>\n",
       "      <th>duration</th>\n",
       "      <th>campaign</th>\n",
       "      <th>pdays</th>\n",
       "      <th>previous</th>\n",
       "      <th>poutcome</th>\n",
       "      <th>y</th>\n",
       "    </tr>\n",
       "  </thead>\n",
       "  <tbody>\n",
       "    <tr>\n",
       "      <th>0</th>\n",
       "      <td>11</td>\n",
       "      <td>10</td>\n",
       "      <td>1</td>\n",
       "      <td>0</td>\n",
       "      <td>0</td>\n",
       "      <td>1475</td>\n",
       "      <td>0</td>\n",
       "      <td>0</td>\n",
       "      <td>0</td>\n",
       "      <td>18</td>\n",
       "      <td>10</td>\n",
       "      <td>75</td>\n",
       "      <td>0</td>\n",
       "      <td>0</td>\n",
       "      <td>0</td>\n",
       "      <td>2</td>\n",
       "      <td>0</td>\n",
       "    </tr>\n",
       "    <tr>\n",
       "      <th>1</th>\n",
       "      <td>14</td>\n",
       "      <td>7</td>\n",
       "      <td>1</td>\n",
       "      <td>1</td>\n",
       "      <td>0</td>\n",
       "      <td>2030</td>\n",
       "      <td>1</td>\n",
       "      <td>1</td>\n",
       "      <td>0</td>\n",
       "      <td>10</td>\n",
       "      <td>8</td>\n",
       "      <td>216</td>\n",
       "      <td>0</td>\n",
       "      <td>228</td>\n",
       "      <td>4</td>\n",
       "      <td>0</td>\n",
       "      <td>0</td>\n",
       "    </tr>\n",
       "    <tr>\n",
       "      <th>2</th>\n",
       "      <td>16</td>\n",
       "      <td>4</td>\n",
       "      <td>2</td>\n",
       "      <td>2</td>\n",
       "      <td>0</td>\n",
       "      <td>1303</td>\n",
       "      <td>1</td>\n",
       "      <td>0</td>\n",
       "      <td>0</td>\n",
       "      <td>15</td>\n",
       "      <td>0</td>\n",
       "      <td>181</td>\n",
       "      <td>0</td>\n",
       "      <td>219</td>\n",
       "      <td>1</td>\n",
       "      <td>0</td>\n",
       "      <td>0</td>\n",
       "    </tr>\n",
       "    <tr>\n",
       "      <th>3</th>\n",
       "      <td>11</td>\n",
       "      <td>4</td>\n",
       "      <td>1</td>\n",
       "      <td>2</td>\n",
       "      <td>0</td>\n",
       "      <td>1352</td>\n",
       "      <td>1</td>\n",
       "      <td>1</td>\n",
       "      <td>2</td>\n",
       "      <td>2</td>\n",
       "      <td>6</td>\n",
       "      <td>195</td>\n",
       "      <td>3</td>\n",
       "      <td>0</td>\n",
       "      <td>0</td>\n",
       "      <td>2</td>\n",
       "      <td>0</td>\n",
       "    </tr>\n",
       "    <tr>\n",
       "      <th>4</th>\n",
       "      <td>40</td>\n",
       "      <td>1</td>\n",
       "      <td>1</td>\n",
       "      <td>1</td>\n",
       "      <td>0</td>\n",
       "      <td>274</td>\n",
       "      <td>1</td>\n",
       "      <td>0</td>\n",
       "      <td>2</td>\n",
       "      <td>4</td>\n",
       "      <td>8</td>\n",
       "      <td>222</td>\n",
       "      <td>0</td>\n",
       "      <td>0</td>\n",
       "      <td>0</td>\n",
       "      <td>2</td>\n",
       "      <td>0</td>\n",
       "    </tr>\n",
       "  </tbody>\n",
       "</table>\n",
       "</div>"
      ],
      "text/plain": [
       "   age  job  marital  education  default  balance  housing  loan  contact  \\\n",
       "0   11   10        1          0        0     1475        0     0        0   \n",
       "1   14    7        1          1        0     2030        1     1        0   \n",
       "2   16    4        2          2        0     1303        1     0        0   \n",
       "3   11    4        1          2        0     1352        1     1        2   \n",
       "4   40    1        1          1        0      274        1     0        2   \n",
       "\n",
       "   day  month  duration  campaign  pdays  previous  poutcome  y  \n",
       "0   18     10        75         0      0         0         2  0  \n",
       "1   10      8       216         0    228         4         0  0  \n",
       "2   15      0       181         0    219         1         0  0  \n",
       "3    2      6       195         3      0         0         2  0  \n",
       "4    4      8       222         0      0         0         2  0  "
      ]
     },
     "execution_count": 23,
     "metadata": {},
     "output_type": "execute_result"
    }
   ],
   "source": [
    "new_df.head()"
   ]
  },
  {
   "cell_type": "markdown",
   "metadata": {},
   "source": [
    "<a id = 'logit-prep'></a>\n",
    "## Reviewing data for logistic regression\n",
    "---"
   ]
  },
  {
   "cell_type": "code",
   "execution_count": 24,
   "metadata": {},
   "outputs": [
    {
     "data": {
      "image/png": "[encoded data removed]",
      "text/plain": [
       "<matplotlib.figure.Figure at 0x7fe57215cb90>"
      ]
     },
     "metadata": {},
     "output_type": "display_data"
    }
   ],
   "source": [
    "corrs = new_df.corr()\n",
    "fig, ax = plt.subplots(figsize=(16,8))\n",
    "\n",
    "# Generate a mask for the upper triangle (taken from seaborn example gallery)\n",
    "mask = np.zeros_like(corrs, dtype=np.bool)\n",
    "mask[np.triu_indices_from(mask)] = True\n",
    "\n",
    "# Plot the heatmap with seaborn.\n",
    "# Assign the matplotlib axis the function returns. This will let us resize the labels.\n",
    "ax = sns.heatmap(corrs, mask=mask, annot=True, cmap=\"Blues\")\n",
    "\n",
    "# Resize the labels.\n",
    "ax.set_xticklabels(ax.xaxis.get_ticklabels(), fontsize=14, rotation=30)\n",
    "ax.set_yticklabels(ax.yaxis.get_ticklabels(), fontsize=14, rotation=0)\n",
    "\n",
    "plt.show()"
   ]
  },
  {
   "cell_type": "markdown",
   "metadata": {},
   "source": [
    "#### As shown by the heat map there is very little correlation between the features of the dataset and the target"
   ]
  },
  {
   "cell_type": "code",
   "execution_count": 25,
   "metadata": {
    "collapsed": true
   },
   "outputs": [],
   "source": [
    "from sklearn.linear_model import LogisticRegression"
   ]
  },
  {
   "cell_type": "code",
   "execution_count": 26,
   "metadata": {},
   "outputs": [
    {
     "data": {
      "text/plain": [
       "0.11523999115239991"
      ]
     },
     "execution_count": 26,
     "metadata": {},
     "output_type": "execute_result"
    }
   ],
   "source": [
    "#what's my baseline?\n",
    "new_df.y.mean() #My baseline is very low, so even a good model will not have much predictive power (11.5% 'yes')"
   ]
  },
  {
   "cell_type": "code",
   "execution_count": 27,
   "metadata": {
    "collapsed": true
   },
   "outputs": [],
   "source": [
    "X = new_df[['job', 'marital', 'education', 'default', 'housing', 'loan', 'contact', 'month', 'age', 'pdays', 'balance', 'day', 'poutcome', 'previous']]\n",
    "y = new_df['y']"
   ]
  },
  {
   "cell_type": "code",
   "execution_count": 28,
   "metadata": {
    "collapsed": true
   },
   "outputs": [],
   "source": [
    "X_train, X_test, y_train, y_test = train_test_split(X, y, test_size=0.5)"
   ]
  },
  {
   "cell_type": "code",
   "execution_count": 29,
   "metadata": {},
   "outputs": [
    {
     "data": {
      "text/plain": [
       "LogisticRegression(C=1.0, class_weight=None, dual=False, fit_intercept=True,\n",
       "          intercept_scaling=1, max_iter=100, multi_class='ovr', n_jobs=1,\n",
       "          penalty='l2', random_state=None, solver='liblinear', tol=0.0001,\n",
       "          verbose=0, warm_start=False)"
      ]
     },
     "execution_count": 29,
     "metadata": {},
     "output_type": "execute_result"
    }
   ],
   "source": [
    "lr = LogisticRegression()\n",
    "lr.fit(X_train, y_train, )"
   ]
  },
  {
   "cell_type": "code",
   "execution_count": 30,
   "metadata": {},
   "outputs": [
    {
     "data": {
      "text/plain": [
       "0.87925696594427249"
      ]
     },
     "execution_count": 30,
     "metadata": {},
     "output_type": "execute_result"
    }
   ],
   "source": [
    "lr.score(X_test, y_test)"
   ]
  },
  {
   "cell_type": "code",
   "execution_count": 31,
   "metadata": {
    "collapsed": true
   },
   "outputs": [],
   "source": [
    "import seaborn as sb"
   ]
  },
  {
   "cell_type": "code",
   "execution_count": 32,
   "metadata": {},
   "outputs": [
    {
     "data": {
      "text/plain": [
       "<seaborn.axisgrid.FacetGrid at 0x7fe5b53dab90>"
      ]
     },
     "execution_count": 32,
     "metadata": {},
     "output_type": "execute_result"
    },
    {
     "data": {
      "image/png": "[encoded data removed]",
      "text/plain": [
       "<matplotlib.figure.Figure at 0x7fe5721e1cd0>"
      ]
     },
     "metadata": {},
     "output_type": "display_data"
    }
   ],
   "source": [
    "sb.factorplot(\n",
    "    x='job',\n",
    "    y='age',\n",
    "    data=bank_data, \n",
    "    kind='box',\n",
    "    size = 4,\n",
    "    aspect = 3\n",
    ")"
   ]
  },
  {
   "cell_type": "markdown",
   "metadata": {},
   "source": [
    "#### The above factor plot shows thats certain ages ranges are must more likely to have a particular job. E.g. Students are usually younger than 30, which makes a lot of sense. Also retired persons are typically older than 55."
   ]
  },
  {
   "cell_type": "code",
   "execution_count": 33,
   "metadata": {},
   "outputs": [
    {
     "data": {
      "text/plain": [
       "<seaborn.axisgrid.FacetGrid at 0x7fe56a0f9650>"
      ]
     },
     "execution_count": 33,
     "metadata": {},
     "output_type": "execute_result"
    },
    {
     "data": {
      "image/png": "[encoded data removed]",
      "text/plain": [
       "<matplotlib.figure.Figure at 0x7fe56a0f96d0>"
      ]
     },
     "metadata": {},
     "output_type": "display_data"
    }
   ],
   "source": [
    "sb.factorplot(\n",
    "    x='y',\n",
    "    y='age',\n",
    "    data=new_df, \n",
    "    kind='box',\n",
    "    size = 4,\n",
    "    aspect = 2\n",
    ")"
   ]
  },
  {
   "cell_type": "markdown",
   "metadata": {},
   "source": [
    "#### The above factor plots shows there is a wider range of ages that subscribe to a term deposit than the range of ages that did not subscribe. This suggests there may be a relationship between age groups that relate to an employment status (the age of students) and the outcome. \n",
    "- Persons who fit into the category of a student are less likely to subscribe to a term deposit."
   ]
  },
  {
   "cell_type": "code",
   "execution_count": 34,
   "metadata": {},
   "outputs": [
    {
     "data": {
      "text/plain": [
       "<seaborn.axisgrid.FacetGrid at 0x7fe56a0ce090>"
      ]
     },
     "execution_count": 34,
     "metadata": {},
     "output_type": "execute_result"
    },
    {
     "data": {
      "image/png": "[encoded data removed]",
      "text/plain": [
       "<matplotlib.figure.Figure at 0x7fe56a0bff10>"
      ]
     },
     "metadata": {},
     "output_type": "display_data"
    }
   ],
   "source": [
    "sb.factorplot(\n",
    "    x='y',\n",
    "    y='job',\n",
    "    data=new_df, \n",
    "    kind='box',\n",
    "    size = 4,\n",
    "    aspect = 2\n",
    ")"
   ]
  },
  {
   "cell_type": "code",
   "execution_count": 35,
   "metadata": {
    "scrolled": false
   },
   "outputs": [
    {
     "name": "stdout",
     "output_type": "stream",
     "text": [
      "['entrepreneur']\n",
      "['housemaid']\n",
      "['management']\n",
      "['retired']\n",
      "['self-employed']\n",
      "['services']\n"
     ]
    }
   ],
   "source": [
    "for x in range(2,8):\n",
    "    print d['job'].inverse_transform([x])"
   ]
  },
  {
   "cell_type": "markdown",
   "metadata": {},
   "source": [
    "### Above shows which job titles are more likely to subscribe to a term deposit"
   ]
  },
  {
   "cell_type": "code",
   "execution_count": 36,
   "metadata": {},
   "outputs": [
    {
     "data": {
      "text/plain": [
       "<seaborn.axisgrid.FacetGrid at 0x7fe56a353590>"
      ]
     },
     "execution_count": 36,
     "metadata": {},
     "output_type": "execute_result"
    },
    {
     "data": {
      "image/png": "[encoded data removed]",
      "text/plain": [
       "<matplotlib.figure.Figure at 0x7fe569fbaed0>"
      ]
     },
     "metadata": {},
     "output_type": "display_data"
    }
   ],
   "source": [
    "sb.factorplot(\n",
    "    x='y',\n",
    "    y='education',\n",
    "    data=new_df, \n",
    "    kind='box',\n",
    "    size = 4,\n",
    "    aspect = 2\n",
    ")"
   ]
  },
  {
   "cell_type": "markdown",
   "metadata": {},
   "source": [
    "### Given that there is an exact match on the plots above the feature education will not be useful in predictions"
   ]
  },
  {
   "cell_type": "markdown",
   "metadata": {},
   "source": [
    "# Part 4\n",
    "# More Question that have arisen\n",
    "- how does running a model improve my baseline\n",
    "- get best logistic regression by running gridsearch to determin best regularization"
   ]
  },
  {
   "cell_type": "code",
   "execution_count": 37,
   "metadata": {
    "collapsed": true
   },
   "outputs": [],
   "source": [
    "from sklearn.metrics import roc_curve, roc_auc_score"
   ]
  },
  {
   "cell_type": "code",
   "execution_count": 39,
   "metadata": {},
   "outputs": [
    {
     "data": {
      "text/html": [
       "<div>\n",
       "<style>\n",
       "    .dataframe thead tr:only-child th {\n",
       "        text-align: right;\n",
       "    }\n",
       "\n",
       "    .dataframe thead th {\n",
       "        text-align: left;\n",
       "    }\n",
       "\n",
       "    .dataframe tbody tr th {\n",
       "        vertical-align: top;\n",
       "    }\n",
       "</style>\n",
       "<table border=\"1\" class=\"dataframe\">\n",
       "  <thead>\n",
       "    <tr style=\"text-align: right;\">\n",
       "      <th></th>\n",
       "      <th>job</th>\n",
       "      <th>marital</th>\n",
       "      <th>education</th>\n",
       "      <th>default</th>\n",
       "      <th>housing</th>\n",
       "      <th>loan</th>\n",
       "      <th>contact</th>\n",
       "      <th>month</th>\n",
       "      <th>age</th>\n",
       "      <th>pdays</th>\n",
       "      <th>balance</th>\n",
       "      <th>day</th>\n",
       "      <th>poutcome</th>\n",
       "      <th>previous</th>\n",
       "    </tr>\n",
       "  </thead>\n",
       "  <tbody>\n",
       "    <tr>\n",
       "      <th>0</th>\n",
       "      <td>1.716804</td>\n",
       "      <td>-0.246429</td>\n",
       "      <td>-1.644755</td>\n",
       "      <td>-0.130759</td>\n",
       "      <td>-1.142051</td>\n",
       "      <td>-0.424756</td>\n",
       "      <td>-0.723642</td>\n",
       "      <td>1.485414</td>\n",
       "      <td>-1.056886</td>\n",
       "      <td>-0.397524</td>\n",
       "      <td>0.916941</td>\n",
       "      <td>0.374052</td>\n",
       "      <td>0.386938</td>\n",
       "      <td>-0.325061</td>\n",
       "    </tr>\n",
       "    <tr>\n",
       "      <th>1</th>\n",
       "      <td>0.795246</td>\n",
       "      <td>-0.246429</td>\n",
       "      <td>-0.309038</td>\n",
       "      <td>-0.130759</td>\n",
       "      <td>0.875617</td>\n",
       "      <td>2.354292</td>\n",
       "      <td>-0.723642</td>\n",
       "      <td>0.819288</td>\n",
       "      <td>-0.772983</td>\n",
       "      <td>3.175235</td>\n",
       "      <td>1.793905</td>\n",
       "      <td>-0.596026</td>\n",
       "      <td>-2.767880</td>\n",
       "      <td>2.083131</td>\n",
       "    </tr>\n",
       "    <tr>\n",
       "      <th>2</th>\n",
       "      <td>-0.126313</td>\n",
       "      <td>1.421396</td>\n",
       "      <td>1.026680</td>\n",
       "      <td>-0.130759</td>\n",
       "      <td>0.875617</td>\n",
       "      <td>-0.424756</td>\n",
       "      <td>-0.723642</td>\n",
       "      <td>-1.845220</td>\n",
       "      <td>-0.583715</td>\n",
       "      <td>3.034205</td>\n",
       "      <td>0.645162</td>\n",
       "      <td>0.010273</td>\n",
       "      <td>-2.767880</td>\n",
       "      <td>0.276987</td>\n",
       "    </tr>\n",
       "    <tr>\n",
       "      <th>3</th>\n",
       "      <td>-0.126313</td>\n",
       "      <td>-0.246429</td>\n",
       "      <td>1.026680</td>\n",
       "      <td>-0.130759</td>\n",
       "      <td>0.875617</td>\n",
       "      <td>2.354292</td>\n",
       "      <td>1.495133</td>\n",
       "      <td>0.153161</td>\n",
       "      <td>-1.056886</td>\n",
       "      <td>-0.397524</td>\n",
       "      <td>0.722587</td>\n",
       "      <td>-1.566105</td>\n",
       "      <td>0.386938</td>\n",
       "      <td>-0.325061</td>\n",
       "    </tr>\n",
       "    <tr>\n",
       "      <th>4</th>\n",
       "      <td>-1.047871</td>\n",
       "      <td>-0.246429</td>\n",
       "      <td>-0.309038</td>\n",
       "      <td>-0.130759</td>\n",
       "      <td>0.875617</td>\n",
       "      <td>-0.424756</td>\n",
       "      <td>1.495133</td>\n",
       "      <td>0.819288</td>\n",
       "      <td>1.687510</td>\n",
       "      <td>-0.397524</td>\n",
       "      <td>-0.980777</td>\n",
       "      <td>-1.323585</td>\n",
       "      <td>0.386938</td>\n",
       "      <td>-0.325061</td>\n",
       "    </tr>\n",
       "  </tbody>\n",
       "</table>\n",
       "</div>"
      ],
      "text/plain": [
       "        job   marital  education   default   housing      loan   contact  \\\n",
       "0  1.716804 -0.246429  -1.644755 -0.130759 -1.142051 -0.424756 -0.723642   \n",
       "1  0.795246 -0.246429  -0.309038 -0.130759  0.875617  2.354292 -0.723642   \n",
       "2 -0.126313  1.421396   1.026680 -0.130759  0.875617 -0.424756 -0.723642   \n",
       "3 -0.126313 -0.246429   1.026680 -0.130759  0.875617  2.354292  1.495133   \n",
       "4 -1.047871 -0.246429  -0.309038 -0.130759  0.875617 -0.424756  1.495133   \n",
       "\n",
       "      month       age     pdays   balance       day  poutcome  previous  \n",
       "0  1.485414 -1.056886 -0.397524  0.916941  0.374052  0.386938 -0.325061  \n",
       "1  0.819288 -0.772983  3.175235  1.793905 -0.596026 -2.767880  2.083131  \n",
       "2 -1.845220 -0.583715  3.034205  0.645162  0.010273 -2.767880  0.276987  \n",
       "3  0.153161 -1.056886 -0.397524  0.722587 -1.566105  0.386938 -0.325061  \n",
       "4  0.819288  1.687510 -0.397524 -0.980777 -1.323585  0.386938 -0.325061  "
      ]
     },
     "execution_count": 39,
     "metadata": {},
     "output_type": "execute_result"
    }
   ],
   "source": [
    "from sklearn.preprocessing import StandardScaler\n",
    "scaler = StandardScaler()\n",
    "X_scaled = scaler.fit_transform(X)\n",
    "X_df = pd.DataFrame(X_scaled,columns=X.columns)\n",
    "X_df.head()"
   ]
  },
  {
   "cell_type": "code",
   "execution_count": 40,
   "metadata": {},
   "outputs": [
    {
     "data": {
      "image/png": "[encoded data removed]",
      "text/plain": [
       "<matplotlib.figure.Figure at 0x7fe572046550>"
      ]
     },
     "metadata": {},
     "output_type": "display_data"
    }
   ],
   "source": [
    "predictions = lr.predict(X_df)\n",
    "probabilities = lr.predict_proba(X_df)\n",
    "plt.plot(roc_curve(y, probabilities[:,1])[0],\n",
    "         roc_curve(y, probabilities[:,1])[1])\n",
    "plt.show()"
   ]
  },
  {
   "cell_type": "code",
   "execution_count": 43,
   "metadata": {},
   "outputs": [
    {
     "data": {
      "text/plain": [
       "0.61070585412667944"
      ]
     },
     "execution_count": 43,
     "metadata": {},
     "output_type": "execute_result"
    }
   ],
   "source": [
    "roc_auc_score(y, lr.predict(X_df))"
   ]
  },
  {
   "cell_type": "markdown",
   "metadata": {},
   "source": [
    "<a id='gridsearch' ></a>\n",
    "## Gridsearch searching for best alpha penalty"
   ]
  },
  {
   "cell_type": "code",
   "execution_count": 44,
   "metadata": {
    "collapsed": true
   },
   "outputs": [],
   "source": [
    "from sklearn.linear_model import LogisticRegression\n",
    "from sklearn.model_selection import GridSearchCV, KFold"
   ]
  },
  {
   "cell_type": "code",
   "execution_count": 45,
   "metadata": {},
   "outputs": [],
   "source": [
    "# Use GridSearch to try different params for LogisticRegression;\n",
    "search_parameters = { \n",
    "    \"C\": np.linspace(10**(-10), 0.25, 200)\n",
    "}\n",
    "lasso = LogisticRegression(penalty='l1')# type of penalty applied to LR\n",
    "\n",
    "estimator = GridSearchCV(lasso, search_parameters, scoring=\"accuracy\")\n",
    "results = estimator.fit(X_df, y) # using standardized feature set in fitting"
   ]
  },
  {
   "cell_type": "code",
   "execution_count": 46,
   "metadata": {},
   "outputs": [
    {
     "data": {
      "text/html": [
       "<div>\n",
       "<style>\n",
       "    .dataframe thead tr:only-child th {\n",
       "        text-align: right;\n",
       "    }\n",
       "\n",
       "    .dataframe thead th {\n",
       "        text-align: left;\n",
       "    }\n",
       "\n",
       "    .dataframe tbody tr th {\n",
       "        vertical-align: top;\n",
       "    }\n",
       "</style>\n",
       "<table border=\"1\" class=\"dataframe\">\n",
       "  <thead>\n",
       "    <tr style=\"text-align: right;\">\n",
       "      <th></th>\n",
       "      <th>mean_fit_time</th>\n",
       "      <th>mean_score_time</th>\n",
       "      <th>mean_test_score</th>\n",
       "      <th>mean_train_score</th>\n",
       "      <th>param_C</th>\n",
       "      <th>params</th>\n",
       "      <th>rank_test_score</th>\n",
       "      <th>split0_test_score</th>\n",
       "      <th>split0_train_score</th>\n",
       "      <th>split1_test_score</th>\n",
       "      <th>split1_train_score</th>\n",
       "      <th>split2_test_score</th>\n",
       "      <th>split2_train_score</th>\n",
       "      <th>std_fit_time</th>\n",
       "      <th>std_score_time</th>\n",
       "      <th>std_test_score</th>\n",
       "      <th>std_train_score</th>\n",
       "    </tr>\n",
       "  </thead>\n",
       "  <tbody>\n",
       "    <tr>\n",
       "      <th>0</th>\n",
       "      <td>0.004008</td>\n",
       "      <td>0.000635</td>\n",
       "      <td>0.88476</td>\n",
       "      <td>0.88476</td>\n",
       "      <td>1e-10</td>\n",
       "      <td>{u'C': 1e-10}</td>\n",
       "      <td>1</td>\n",
       "      <td>0.884615</td>\n",
       "      <td>0.884832</td>\n",
       "      <td>0.884539</td>\n",
       "      <td>0.884871</td>\n",
       "      <td>0.885126</td>\n",
       "      <td>0.884577</td>\n",
       "      <td>0.000985</td>\n",
       "      <td>0.000044</td>\n",
       "      <td>0.000261</td>\n",
       "      <td>0.00013</td>\n",
       "    </tr>\n",
       "    <tr>\n",
       "      <th>1</th>\n",
       "      <td>0.004295</td>\n",
       "      <td>0.000610</td>\n",
       "      <td>0.88476</td>\n",
       "      <td>0.88476</td>\n",
       "      <td>0.00125628</td>\n",
       "      <td>{u'C': 0.00125628150653}</td>\n",
       "      <td>1</td>\n",
       "      <td>0.884615</td>\n",
       "      <td>0.884832</td>\n",
       "      <td>0.884539</td>\n",
       "      <td>0.884871</td>\n",
       "      <td>0.885126</td>\n",
       "      <td>0.884577</td>\n",
       "      <td>0.000146</td>\n",
       "      <td>0.000015</td>\n",
       "      <td>0.000261</td>\n",
       "      <td>0.00013</td>\n",
       "    </tr>\n",
       "    <tr>\n",
       "      <th>2</th>\n",
       "      <td>0.004990</td>\n",
       "      <td>0.001259</td>\n",
       "      <td>0.88476</td>\n",
       "      <td>0.88476</td>\n",
       "      <td>0.00251256</td>\n",
       "      <td>{u'C': 0.00251256291307}</td>\n",
       "      <td>1</td>\n",
       "      <td>0.884615</td>\n",
       "      <td>0.884832</td>\n",
       "      <td>0.884539</td>\n",
       "      <td>0.884871</td>\n",
       "      <td>0.885126</td>\n",
       "      <td>0.884577</td>\n",
       "      <td>0.000193</td>\n",
       "      <td>0.000459</td>\n",
       "      <td>0.000261</td>\n",
       "      <td>0.00013</td>\n",
       "    </tr>\n",
       "    <tr>\n",
       "      <th>3</th>\n",
       "      <td>0.006433</td>\n",
       "      <td>0.001147</td>\n",
       "      <td>0.88476</td>\n",
       "      <td>0.88476</td>\n",
       "      <td>0.00376884</td>\n",
       "      <td>{u'C': 0.0037688443196}</td>\n",
       "      <td>1</td>\n",
       "      <td>0.884615</td>\n",
       "      <td>0.884832</td>\n",
       "      <td>0.884539</td>\n",
       "      <td>0.884871</td>\n",
       "      <td>0.885126</td>\n",
       "      <td>0.884577</td>\n",
       "      <td>0.000602</td>\n",
       "      <td>0.000346</td>\n",
       "      <td>0.000261</td>\n",
       "      <td>0.00013</td>\n",
       "    </tr>\n",
       "    <tr>\n",
       "      <th>4</th>\n",
       "      <td>0.004974</td>\n",
       "      <td>0.000737</td>\n",
       "      <td>0.88476</td>\n",
       "      <td>0.88476</td>\n",
       "      <td>0.00502513</td>\n",
       "      <td>{u'C': 0.00502512572613}</td>\n",
       "      <td>1</td>\n",
       "      <td>0.884615</td>\n",
       "      <td>0.884832</td>\n",
       "      <td>0.884539</td>\n",
       "      <td>0.884871</td>\n",
       "      <td>0.885126</td>\n",
       "      <td>0.884577</td>\n",
       "      <td>0.000408</td>\n",
       "      <td>0.000041</td>\n",
       "      <td>0.000261</td>\n",
       "      <td>0.00013</td>\n",
       "    </tr>\n",
       "  </tbody>\n",
       "</table>\n",
       "</div>"
      ],
      "text/plain": [
       "   mean_fit_time  mean_score_time  mean_test_score  mean_train_score  \\\n",
       "0       0.004008         0.000635          0.88476           0.88476   \n",
       "1       0.004295         0.000610          0.88476           0.88476   \n",
       "2       0.004990         0.001259          0.88476           0.88476   \n",
       "3       0.006433         0.001147          0.88476           0.88476   \n",
       "4       0.004974         0.000737          0.88476           0.88476   \n",
       "\n",
       "      param_C                    params  rank_test_score  split0_test_score  \\\n",
       "0       1e-10             {u'C': 1e-10}                1           0.884615   \n",
       "1  0.00125628  {u'C': 0.00125628150653}                1           0.884615   \n",
       "2  0.00251256  {u'C': 0.00251256291307}                1           0.884615   \n",
       "3  0.00376884   {u'C': 0.0037688443196}                1           0.884615   \n",
       "4  0.00502513  {u'C': 0.00502512572613}                1           0.884615   \n",
       "\n",
       "   split0_train_score  split1_test_score  split1_train_score  \\\n",
       "0            0.884832           0.884539            0.884871   \n",
       "1            0.884832           0.884539            0.884871   \n",
       "2            0.884832           0.884539            0.884871   \n",
       "3            0.884832           0.884539            0.884871   \n",
       "4            0.884832           0.884539            0.884871   \n",
       "\n",
       "   split2_test_score  split2_train_score  std_fit_time  std_score_time  \\\n",
       "0           0.885126            0.884577      0.000985        0.000044   \n",
       "1           0.885126            0.884577      0.000146        0.000015   \n",
       "2           0.885126            0.884577      0.000193        0.000459   \n",
       "3           0.885126            0.884577      0.000602        0.000346   \n",
       "4           0.885126            0.884577      0.000408        0.000041   \n",
       "\n",
       "   std_test_score  std_train_score  \n",
       "0        0.000261          0.00013  \n",
       "1        0.000261          0.00013  \n",
       "2        0.000261          0.00013  \n",
       "3        0.000261          0.00013  \n",
       "4        0.000261          0.00013  "
      ]
     },
     "execution_count": 46,
     "metadata": {},
     "output_type": "execute_result"
    }
   ],
   "source": [
    "results_df = pd.DataFrame(estimator.cv_results_)\n",
    "results_df.head()"
   ]
  },
  {
   "cell_type": "code",
   "execution_count": 47,
   "metadata": {},
   "outputs": [
    {
     "data": {
      "image/png": "[encoded data removed]",
      "text/plain": [
       "<matplotlib.figure.Figure at 0x7fe569e69a10>"
      ]
     },
     "metadata": {},
     "output_type": "display_data"
    }
   ],
   "source": [
    "results_df.plot(x=\"param_C\", y=\"mean_test_score\", title=\"Alphas / Mean Scores\")\n",
    "plt.show()"
   ]
  },
  {
   "cell_type": "code",
   "execution_count": 47,
   "metadata": {},
   "outputs": [
    {
     "name": "stdout",
     "output_type": "stream",
     "text": [
      "Best Score 0.884760008848\n",
      "Best Params with fit_intercept included as search param {'C': 1e-10, 'fit_intercept': True}\n"
     ]
    }
   ],
   "source": [
    "print \"Best Score\", results.best_score_ #best score of models fitted by GS\n",
    "print \"Best Params with fit_intercept included as search param\", results.best_params_ #Best C param"
   ]
  },
  {
   "cell_type": "code",
   "execution_count": 43,
   "metadata": {
    "collapsed": true
   },
   "outputs": [],
   "source": [
    "# Use GridSearch to try different params for LogisticRegression;\n",
    "search_parameters = {\n",
    "    \"C\": np.linspace(10**(-10), 0.25, 200)\n",
    "}\n",
    "lasso = LogisticRegression(penalty='l1')# type of penalty applied to LR\n",
    "\n",
    "estimator = GridSearchCV(lasso, search_parameters, scoring=\"accuracy\")\n",
    "results = estimator.fit(X_df, y) # using standardized feature set in fitting"
   ]
  },
  {
   "cell_type": "code",
   "execution_count": 44,
   "metadata": {},
   "outputs": [
    {
     "name": "stdout",
     "output_type": "stream",
     "text": [
      "Best Score 0.884760008848\n",
      "Best Param {'C': 1e-10}\n"
     ]
    }
   ],
   "source": [
    "print \"Best Score\", results.best_score_ #best score of models fitted by GS\n",
    "print \"Best Params with only l1 penalty for lasso logit\", results.best_params_ #Best C param"
   ]
  },
  {
   "cell_type": "markdown",
   "metadata": {},
   "source": [
    "<a id='findings'></a>\n",
    "### Best Score is 88% TP rate with a baseline of 11% success"
   ]
  }
 ],
 "metadata": {
  "kernelspec": {
   "display_name": "Python 2",
   "language": "python",
   "name": "python2"
  },
  "language_info": {
   "codemirror_mode": {
    "name": "ipython",
    "version": 2
   },
   "file_extension": ".py",
   "mimetype": "text/x-python",
   "name": "python",
   "nbconvert_exporter": "python",
   "pygments_lexer": "ipython2",
   "version": "2.7.13"
  }
 },
 "nbformat": 4,
 "nbformat_minor": 2
}
